{
 "cells": [
  {
   "cell_type": "code",
   "execution_count": 9,
   "id": "1acaaad9",
   "metadata": {},
   "outputs": [
    {
     "name": "stdout",
     "output_type": "stream",
     "text": [
      "Shared secret established successfully.\n"
     ]
    }
   ],
   "source": [
    "from cryptography.hazmat.primitives.asymmetric import x25519\n",
    "\n",
    "# Generate private keys for Alice and Bob\n",
    "alice_private_key = x25519.X25519PrivateKey.generate()\n",
    "bob_private_key = x25519.X25519PrivateKey.generate()\n",
    "\n",
    "# Generate public keys for Alice and Bob\n",
    "alice_public_key = alice_private_key.public_key()\n",
    "bob_public_key = bob_private_key.public_key()\n",
    "\n",
    "# Exchange public keys and compute shared secrets\n",
    "alice_shared_key = alice_private_key.exchange(bob_public_key)\n",
    "bob_shared_key = bob_private_key.exchange(alice_public_key)\n",
    "\n",
    "# Verify that the shared keys are equal\n",
    "assert alice_shared_key == bob_shared_key\n",
    "\n",
    "print(\"Shared secret established successfully.\")"
   ]
  },
  {
   "cell_type": "markdown",
   "id": "e782f914",
   "metadata": {},
   "source": [
    "x25519 is a Diffie-Hellman (DH) key exchange algorithm based on the Curve25519 using elliptic-curve cryptography."
   ]
  },
  {
   "cell_type": "code",
   "execution_count": 10,
   "id": "74497bf0",
   "metadata": {},
   "outputs": [
    {
     "name": "stdout",
     "output_type": "stream",
     "text": [
      "Alice's public key is authentic.\n",
      "Hybrid shared secret established successfully.\n"
     ]
    }
   ],
   "source": [
    "from cryptography.hazmat.primitives.asymmetric import x25519\n",
    "from cryptography.hazmat.primitives.kdf.hkdf import HKDF\n",
    "from cryptography.hazmat.primitives import hashes\n",
    "import oqs\n",
    "\n",
    "# Classical X25519 Key Exchange\n",
    "alice_private_key = x25519.X25519PrivateKey.generate()\n",
    "bob_private_key = x25519.X25519PrivateKey.generate()\n",
    "\n",
    "alice_public_key = alice_private_key.public_key()\n",
    "bob_public_key = bob_private_key.public_key()\n",
    "\n",
    "alice_shared_classical = alice_private_key.exchange(bob_public_key)\n",
    "bob_shared_classical = bob_private_key.exchange(alice_public_key)\n",
    "\n",
    "# Post-Quantum Key Exchange using Kyber\n",
    "# Alice generates a key pair and gets her public key\n",
    "alice_kem = oqs.KeyEncapsulation(\"Kyber1024\")\n",
    "alice_public_pq = alice_kem.generate_keypair()\n",
    "\n",
    "# Alice signs her post-quantum public key\n",
    "alice_sig = oqs.Signature(\"Dilithium5\")\n",
    "alice_public_sig = alice_sig.generate_keypair()\n",
    "signature = alice_sig.sign(alice_public_pq)\n",
    "\n",
    "# Alice sends alice_public_pq, alice_public_sig, and signature to Bob\n",
    "\n",
    "# Bob verifies Alice's signature\n",
    "bob_sig = oqs.Signature(\"Dilithium5\")\n",
    "if bob_sig.verify(alice_public_pq, signature, alice_public_sig):\n",
    "    print(\"Alice's public key is authentic.\")\n",
    "else:\n",
    "    print(\"Failed to verify Alice's public key.\")\n",
    "\n",
    "# Bob encapsulates a secret to Alice's public key\n",
    "bob_kem = oqs.KeyEncapsulation(\"Kyber1024\")\n",
    "ciphertext, bob_shared_pq = bob_kem.encap_secret(alice_public_pq)\n",
    "\n",
    "# Alice decapsulates the ciphertext to get the shared secret\n",
    "alice_shared_pq = alice_kem.decap_secret(ciphertext)\n",
    "\n",
    "# Verify that the PQ shared secrets are equal\n",
    "assert alice_shared_pq == bob_shared_pq\n",
    "\n",
    "# Combine the shared secrets\n",
    "combined_secret = alice_shared_classical + alice_shared_pq\n",
    "\n",
    "# Derive the final shared key using HKDF\n",
    "derived_key = HKDF(\n",
    "    algorithm=hashes.SHA256(),\n",
    "    length=32,\n",
    "    salt=None,\n",
    "    info=b'hybrid key exchange',\n",
    ").derive(combined_secret)\n",
    "\n",
    "# Both Alice and Bob now share 'derived_key'\n",
    "print(\"Hybrid shared secret established successfully.\")"
   ]
  },
  {
   "cell_type": "code",
   "execution_count": null,
   "id": "2b5baf7b-3262-4f11-ae5a-592665ee91c4",
   "metadata": {},
   "outputs": [],
   "source": []
  }
 ],
 "metadata": {
  "kernelspec": {
   "display_name": "SIT320",
   "language": "python",
   "name": "sit320"
  },
  "language_info": {
   "codemirror_mode": {
    "name": "ipython",
    "version": 3
   },
   "file_extension": ".py",
   "mimetype": "text/x-python",
   "name": "python",
   "nbconvert_exporter": "python",
   "pygments_lexer": "ipython3",
   "version": "3.12.5"
  }
 },
 "nbformat": 4,
 "nbformat_minor": 5
}
